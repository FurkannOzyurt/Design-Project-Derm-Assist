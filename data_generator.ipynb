{
 "cells": [
  {
   "cell_type": "code",
   "execution_count": null,
   "metadata": {
    "id": "NQp2qTDlcl9P"
   },
   "outputs": [],
   "source": [
    "import os\n",
    "import base64\n",
    "import json\n",
    "import time\n",
    "\n",
    "from tqdm import tqdm\n",
    "from openai import AzureOpenAI, BadRequestError\n",
    "from mimetypes import guess_type"
   ]
  },
  {
   "cell_type": "code",
   "execution_count": null,
   "metadata": {
    "id": "OWuQAvOKcl9T"
   },
   "outputs": [],
   "source": [
    "api_base = ' '\n",
    "api_key= ' '\n",
    "deployment_name = \"gpt-4o\"\n",
    "api_version = \"2024-05-01-preview\" # this might change in the future\n",
    "\n",
    "client = AzureOpenAI(\n",
    "    api_key=api_key,\n",
    "    api_version=api_version,\n",
    "    azure_endpoint=api_base,\n",
    ")"
   ]
  },
  {
   "cell_type": "code",
   "execution_count": null,
   "metadata": {
    "id": "gl0VMYN2cl9T"
   },
   "outputs": [],
   "source": [
    "def local_image_to_data_url(image_path):\n",
    "    # Guess the MIME type of the image based on the file extension\n",
    "    mime_type, _ = guess_type(image_path)\n",
    "    if mime_type is None:\n",
    "        mime_type = 'application/octet-stream'  # Default MIME type if none is found\n",
    "\n",
    "    # Read and encode the image file\n",
    "    with open(image_path, \"rb\") as image_file:\n",
    "        base64_encoded_data = base64.b64encode(image_file.read()).decode('utf-8')\n",
    "\n",
    "    # Construct the data URL\n",
    "    return f\"data:{mime_type};base64,{base64_encoded_data}\""
   ]
  },
  {
   "cell_type": "code",
   "execution_count": null,
   "metadata": {
    "id": "dt9l3AJIcl9U",
    "outputId": "eada9715-2bb7-480b-9891-350ea0f1887d"
   },
   "outputs": [
    {
     "data": {
      "text/plain": [
       "\"\\n# Specify the path of the folder you want to open\\nfolder_path = './facial_diseases'\\n\\nfor subfolder in os.listdir(folder_path):\\n    subfolder_path = os.path.join(folder_path, subfolder)\\n    \\n    if os.path.isdir(subfolder_path):\\n        count = 1\\n        for filename in os.listdir(subfolder_path):\\n            if filename.lower().endswith('.jpg'):\\n                # Example: ac100_JPG.rf.eff5eeb00d8883343f97e028dace935f.jpg\\n                new_name = f'{subfolder}_{count}.jpg'\\n                count +=1\\n\\n                old_path = os.path.join(subfolder_path, filename)\\n                new_path = os.path.join(subfolder_path, new_name)\\n                \\n                # Rename the file\\n                os.rename(old_path, new_path)\\n\""
      ]
     },
     "execution_count": 5,
     "metadata": {},
     "output_type": "execute_result"
    }
   ],
   "source": [
    "# RENAME FILES FOR THE DISEASES\n",
    "\n",
    "folder_path = './facial_diseases'\n",
    "\n",
    "for subfolder in os.listdir(folder_path):\n",
    "    subfolder_path = os.path.join(folder_path, subfolder)\n",
    "\n",
    "    if os.path.isdir(subfolder_path):\n",
    "        count = 1\n",
    "        for filename in os.listdir(subfolder_path):\n",
    "            if filename.lower().endswith('.jpg'):\n",
    "                # Example: ac100_JPG.rf.eff5eeb00d8883343f97e028dace935f.jpg\n",
    "                new_name = f'{subfolder}_{count}.jpg'\n",
    "                count +=1\n",
    "\n",
    "                old_path = os.path.join(subfolder_path, filename)\n",
    "                new_path = os.path.join(subfolder_path, new_name)\n",
    "                os.rename(old_path, new_path)\n",
    "\n"
   ]
  },
  {
   "cell_type": "code",
   "execution_count": null,
   "metadata": {
    "id": "VzdwyWWtcl9V"
   },
   "outputs": [],
   "source": [
    "example_json = {\n",
    "    'description': '',\n",
    "    'q_a' : [\n",
    "        {\n",
    "            'question': '',\n",
    "            'answer' : '',\n",
    "        },\n",
    "        {\n",
    "            'question': '',\n",
    "            'answer' : '',\n",
    "        },\n",
    "        {\n",
    "            'question': '',\n",
    "            'answer' : '',\n",
    "        },\n",
    "        {\n",
    "            'question': '',\n",
    "            'answer' : '',\n",
    "        },\n",
    "        {\n",
    "            'question': '',\n",
    "            'answer' : '',\n",
    "        }\n",
    "    ]\n",
    "}"
   ]
  },
  {
   "cell_type": "code",
   "execution_count": null,
   "metadata": {
    "id": "bHfISmUhcl9W"
   },
   "outputs": [],
   "source": [
    "def get_description(prompt, data_url):\n",
    "    response = client.chat.completions.create(\n",
    "        model=deployment_name,\n",
    "        response_format={'type':'json_object'},\n",
    "        messages=[\n",
    "            { \"role\": \"system\", \"content\": \"Provide valid JSON output. The data scheme should be like this: \" +  json.dumps(example_json)},\n",
    "            { \"role\": \"user\", \"content\": [\n",
    "                {\n",
    "                    \"type\": \"text\",\n",
    "                    \"text\": prompt\n",
    "                },\n",
    "                {\n",
    "                    \"type\": \"image_url\",\n",
    "                    \"image_url\": {\n",
    "                        \"url\": data_url\n",
    "                    }\n",
    "                }\n",
    "            ] }\n",
    "        ],\n",
    "        max_tokens=2000\n",
    "    )\n",
    "\n",
    "    msg = response.choices[0].message.content\n",
    "    data = json.loads(msg)\n",
    "\n",
    "    return data"
   ]
  },
  {
   "cell_type": "code",
   "execution_count": null,
   "metadata": {
    "id": "ulZQHKlPcl9W",
    "outputId": "e3294a18-9eaa-45bd-928e-1998cc3f82c0"
   },
   "outputs": [
    {
     "name": "stderr",
     "output_type": "stream",
     "text": [
      "acne: 100%|███████████████████████████████████████████████████████| 100/100 [00:01<00:00, 78.79it/s]\n",
      "eksim: 100%|████████████████████████████████████████████████████████████████| 99/99 [00:00<?, ?it/s]\n",
      "herpes: 100%|████████████████████████████████████████████████████| 100/100 [00:00<00:00, 125.80it/s]\n",
      "panu: 100%|█████████████████████████████████████████████████████████| 99/99 [00:01<00:00, 82.88it/s]\n",
      "rosacea: 100%|██████████████████████████████████████████████████| 100/100 [1:01:23<00:00, 36.84s/it]\n"
     ]
    }
   ],
   "source": [
    "folder_path = './facial_diseases'\n",
    "\n",
    "for subfolder in os.listdir(folder_path):\n",
    "    subfolder_path = os.path.join(folder_path, subfolder)\n",
    "\n",
    "    if os.path.isdir(subfolder_path):\n",
    "\n",
    "        image_files = [f for f in os.listdir(subfolder_path) if f.lower().endswith('.jpg')]\n",
    "        json_files = [f for f in os.listdir(subfolder_path) if f.lower().endswith('.json')]\n",
    "\n",
    "        for filename in tqdm(image_files, desc=f\"{subfolder}\", ncols=100):\n",
    "            # since photos are .jpg I used :-4, if they are .jpeg use :-5\n",
    "            if f'{filename[:-4]}.json' not in json_files:\n",
    "                try:\n",
    "                    img_path = os.path.join(subfolder_path, filename)\n",
    "                    img_data = local_image_to_data_url(img_path)\n",
    "\n",
    "                    prompt = (\n",
    "                        f\"Provide a valid JSON output. You know that the provided image contains {subfolder} disease. \"\n",
    "                        \"Provide a detailed description of the image and create 5 questions with their answers about the description.\"\n",
    "                    )\n",
    "\n",
    "                    data = get_description(prompt=prompt, data_url=img_data)\n",
    "                    json_path = os.path.join(subfolder_path, f'{filename[:-4]}.json')\n",
    "\n",
    "                    with open(json_path, 'w') as f:\n",
    "                        json.dump(data, f, indent=4)\n",
    "\n",
    "                    time.sleep(60)\n",
    "\n",
    "                # sometimes images are labeled as sexual content idk why\n",
    "                except BadRequestError as e:\n",
    "                    continue\n"
   ]
  },
  {
   "cell_type": "code",
   "execution_count": null,
   "metadata": {
    "id": "aLGbgQLwcl9X"
   },
   "outputs": [],
   "source": [
    "acne_data = {\n",
    "    \"description\": \"The image displays a close-up view of human skin affected by acne. It features an area of inflammation, redness, and the presence of a lesion that appears raised and swollen. Surrounding the affected area, the skin texture is highlighted with visible pores, indicating possible acne-prone skin. The central lesion suggests a pustule or nodule often associated with acne, which is a common skin condition characterized by clogged pores, bacterial infection, and inflammation.\",\n",
    "    \"q_a\": [\n",
    "        {\n",
    "            \"question\": \"What condition is depicted in the image?\",\n",
    "            \"answer\": \"The image depicts acne disease, showing inflammation and a raised lesion on the skin.\"\n",
    "        },\n",
    "        {\n",
    "            \"question\": \"What are the visible characteristics of the skin in the image?\",\n",
    "            \"answer\": \"The visible characteristics include redness, raised lesions, inflammation, and enlarged pores.\"\n",
    "        },\n",
    "        {\n",
    "            \"question\": \"What type of lesion is likely shown in the image?\",\n",
    "            \"answer\": \"The lesion appears to be a pustule or nodule, common types of acne lesions.\"\n",
    "        },\n",
    "        {\n",
    "            \"question\": \"What might be the causes of this skin condition?\",\n",
    "            \"answer\": \"Causes of acne include clogged pores due to excess oil production, bacterial infection, hormonal fluctuations, or genetic predisposition.\"\n",
    "        },\n",
    "        {\n",
    "            \"question\": \"How can such acne be treated?\",\n",
    "            \"answer\": \"Treatment can include topical creams, antibiotics, oral medication, proper skincare routines, and in severe cases, dermatological procedures like laser therapy or chemical peels.\"\n",
    "        }\n",
    "    ]\n",
    "}\n",
    "\n"
   ]
  },
  {
   "cell_type": "code",
   "execution_count": null,
   "metadata": {
    "id": "r8Up8TQacl9Y",
    "outputId": "8e9893f2-46aa-4651-b695-f57f243defaa"
   },
   "outputs": [
    {
     "name": "stdout",
     "output_type": "stream",
     "text": [
      "### Description:\n",
      "This image depicts the back of a person's head. The individual appears to have alopecia, a condition that causes hair loss in patches. The affected areas are prominent, with smooth areas of skin visible where hair is missing. The surrounding scalp has short hair, but the patches are completely bald. The background is neutral, with no distracting elements, emphasizing the focus on the head and the hair loss condition.\n",
      "\n",
      "---\n",
      "\n",
      "### Questions and Answers:\n",
      "\n",
      "1. **Q: What condition does the person in the picture appear to have?**  \n",
      "   **A:** The person appears to have alopecia, which causes hair loss in patches.\n",
      "\n",
      "2. **Q: Where is the focus of the image?**  \n",
      "   **A:** The focus of the image is on the back of the person's head, specifically on the bald patches caused by hair loss.\n",
      "\n",
      "3. **Q: What does the skin in the bald patches look like?**  \n",
      "   **A:** The skin in the bald patches appears smooth and free of hair.\n",
      "\n",
      "4. **Q: How does the rest of the scalp surrounding the bald patches appear?**  \n",
      "   **A:** The rest of the scalp has short hair and is unaffected, creating a contrast with the bald patches.\n",
      "\n",
      "5. **Q: Is there anything in the background of the picture that could distract from the focus on the hair loss?**  \n",
      "   **A:** No, the background is neutral and plain, which helps keep the attention on the person's head and the bald patches.\n"
     ]
    }
   ],
   "source": [
    "# Example usage\n",
    "image_path = 'images.jpeg'\n",
    "data_url = local_image_to_data_url(image_path)\n",
    "\n",
    "response = client.chat.completions.create(\n",
    "    model=deployment_name,\n",
    "    messages=[\n",
    "        { \"role\": \"system\", \"content\": \"You are a helpful assistant.\" },\n",
    "        { \"role\": \"user\", \"content\": [\n",
    "            {\n",
    "                \"type\": \"text\",\n",
    "                \"text\": \"Describe this picture and create 5 questions with their answers about the description:\"\n",
    "            },\n",
    "            {\n",
    "                \"type\": \"image_url\",\n",
    "                \"image_url\": {\n",
    "                    \"url\": data_url\n",
    "                }\n",
    "            }\n",
    "        ] }\n",
    "    ],\n",
    "    max_tokens=2000\n",
    ")\n",
    "\n",
    "print(response.choices[0].message.content)"
   ]
  }
 ],
 "metadata": {
  "colab": {
   "provenance": []
  },
  "kernelspec": {
   "display_name": "Python 3",
   "language": "python",
   "name": "python3"
  },
  "language_info": {
   "codemirror_mode": {
    "name": "ipython",
    "version": 3
   },
   "file_extension": ".py",
   "mimetype": "text/x-python",
   "name": "python",
   "nbconvert_exporter": "python",
   "pygments_lexer": "ipython3",
   "version": "3.10.7"
  }
 },
 "nbformat": 4,
 "nbformat_minor": 0
}
